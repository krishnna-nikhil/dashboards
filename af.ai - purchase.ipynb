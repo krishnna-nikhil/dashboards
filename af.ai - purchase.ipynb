{
 "cells": [
  {
   "cell_type": "code",
   "execution_count": 28,
   "id": "41658e69-e1b8-43f7-acda-43da4c6b013d",
   "metadata": {
    "scrolled": true
   },
   "outputs": [
    {
     "name": "stdout",
     "output_type": "stream",
     "text": [
      "<class 'pandas.core.frame.DataFrame'>\n",
      "RangeIndex: 569 entries, 0 to 568\n",
      "Data columns (total 8 columns):\n",
      " #   Column                   Non-Null Count  Dtype         \n",
      "---  ------                   --------------  -----         \n",
      " 0   Bill Date                569 non-null    datetime64[ns]\n",
      " 1   Vendor Name              569 non-null    object        \n",
      " 2   Item Name                569 non-null    object        \n",
      " 3   Quantity                 569 non-null    float64       \n",
      " 4   Item Total               569 non-null    float64       \n",
      " 5   Line Item Location Name  569 non-null    object        \n",
      " 6   Rate                     569 non-null    float64       \n",
      " 7   Project Name             569 non-null    object        \n",
      "dtypes: datetime64[ns](1), float64(3), object(4)\n",
      "memory usage: 35.7+ KB\n"
     ]
    }
   ],
   "source": [
    "import pandas as pd\n",
    "\n",
    "# Path to the Excel file\n",
    "file_path = \"/Users/devnikhil/Downloads/Bill (17).xlsx\"\n",
    "\n",
    "# Load the Excel file into a DataFrame\n",
    "df = pd.read_excel(file_path)\n",
    "df.info()"
   ]
  },
  {
   "cell_type": "code",
   "execution_count": 29,
   "id": "44a78202-fac4-406f-acc8-375142e611b7",
   "metadata": {},
   "outputs": [
    {
     "data": {
      "text/html": [
       "<div>\n",
       "<style scoped>\n",
       "    .dataframe tbody tr th:only-of-type {\n",
       "        vertical-align: middle;\n",
       "    }\n",
       "\n",
       "    .dataframe tbody tr th {\n",
       "        vertical-align: top;\n",
       "    }\n",
       "\n",
       "    .dataframe thead th {\n",
       "        text-align: right;\n",
       "    }\n",
       "</style>\n",
       "<table border=\"1\" class=\"dataframe\">\n",
       "  <thead>\n",
       "    <tr style=\"text-align: right;\">\n",
       "      <th></th>\n",
       "      <th>Bill Date</th>\n",
       "      <th>Vendor Name</th>\n",
       "      <th>Item Name</th>\n",
       "      <th>Quantity</th>\n",
       "      <th>Item Total</th>\n",
       "      <th>Line Item Location Name</th>\n",
       "      <th>Rate</th>\n",
       "      <th>Project Name</th>\n",
       "    </tr>\n",
       "  </thead>\n",
       "  <tbody>\n",
       "    <tr>\n",
       "      <th>0</th>\n",
       "      <td>2025-05-01</td>\n",
       "      <td>Lalbabu Hiralal And Sons</td>\n",
       "      <td>Suzette</td>\n",
       "      <td>2.00</td>\n",
       "      <td>1300.0</td>\n",
       "      <td>Mumbai Vashi DC (Warehouse)</td>\n",
       "      <td>650.0</td>\n",
       "      <td>Suzette</td>\n",
       "    </tr>\n",
       "    <tr>\n",
       "      <th>1</th>\n",
       "      <td>2025-05-01</td>\n",
       "      <td>Suzette (Local Purchase)</td>\n",
       "      <td>Suzette</td>\n",
       "      <td>70.00</td>\n",
       "      <td>1820.0</td>\n",
       "      <td>Mumbai Vashi DC (Warehouse)</td>\n",
       "      <td>26.0</td>\n",
       "      <td>Suzette</td>\n",
       "    </tr>\n",
       "    <tr>\n",
       "      <th>2</th>\n",
       "      <td>2025-05-01</td>\n",
       "      <td>Suzette (Local Purchase)</td>\n",
       "      <td>Suzette</td>\n",
       "      <td>15.00</td>\n",
       "      <td>1650.0</td>\n",
       "      <td>Mumbai Vashi DC (Warehouse)</td>\n",
       "      <td>110.0</td>\n",
       "      <td>Suzette</td>\n",
       "    </tr>\n",
       "    <tr>\n",
       "      <th>3</th>\n",
       "      <td>2025-05-01</td>\n",
       "      <td>Suzette (Local Purchase)</td>\n",
       "      <td>Suzette</td>\n",
       "      <td>10.00</td>\n",
       "      <td>1400.0</td>\n",
       "      <td>Mumbai Vashi DC (Warehouse)</td>\n",
       "      <td>140.0</td>\n",
       "      <td>Suzette</td>\n",
       "    </tr>\n",
       "    <tr>\n",
       "      <th>4</th>\n",
       "      <td>2025-05-01</td>\n",
       "      <td>Suzette (Local Purchase)</td>\n",
       "      <td>Suzette</td>\n",
       "      <td>1.75</td>\n",
       "      <td>245.0</td>\n",
       "      <td>Mumbai Vashi DC (Warehouse)</td>\n",
       "      <td>140.0</td>\n",
       "      <td>Suzette</td>\n",
       "    </tr>\n",
       "  </tbody>\n",
       "</table>\n",
       "</div>"
      ],
      "text/plain": [
       "   Bill Date               Vendor Name Item Name  Quantity  Item Total  \\\n",
       "0 2025-05-01  Lalbabu Hiralal And Sons  Suzette       2.00      1300.0   \n",
       "1 2025-05-01  Suzette (Local Purchase)  Suzette      70.00      1820.0   \n",
       "2 2025-05-01  Suzette (Local Purchase)  Suzette      15.00      1650.0   \n",
       "3 2025-05-01  Suzette (Local Purchase)  Suzette      10.00      1400.0   \n",
       "4 2025-05-01  Suzette (Local Purchase)  Suzette       1.75       245.0   \n",
       "\n",
       "       Line Item Location Name   Rate Project Name   \n",
       "0  Mumbai Vashi DC (Warehouse)  650.0      Suzette   \n",
       "1  Mumbai Vashi DC (Warehouse)   26.0      Suzette   \n",
       "2  Mumbai Vashi DC (Warehouse)  110.0      Suzette   \n",
       "3  Mumbai Vashi DC (Warehouse)  140.0      Suzette   \n",
       "4  Mumbai Vashi DC (Warehouse)  140.0      Suzette   "
      ]
     },
     "execution_count": 29,
     "metadata": {},
     "output_type": "execute_result"
    }
   ],
   "source": [
    "df.head()"
   ]
  },
  {
   "cell_type": "code",
   "execution_count": 30,
   "id": "3abfb638-c581-4a79-a6d4-8404fee1ebae",
   "metadata": {
    "scrolled": true
   },
   "outputs": [
    {
     "name": "stdout",
     "output_type": "stream",
     "text": [
      "<DatetimeArray>\n",
      "['2025-05-01 00:00:00', '2025-05-02 00:00:00', '2025-05-03 00:00:00',\n",
      " '2025-05-04 00:00:00', '2025-05-05 00:00:00', '2025-05-06 00:00:00',\n",
      " '2025-05-07 00:00:00', '2025-05-08 00:00:00', '2025-05-09 00:00:00',\n",
      " '2025-05-10 00:00:00', '2025-05-11 00:00:00', '2025-05-12 00:00:00',\n",
      " '2025-05-13 00:00:00', '2025-05-14 00:00:00', '2025-05-15 00:00:00',\n",
      " '2025-05-16 00:00:00', '2025-05-17 00:00:00', '2025-05-18 00:00:00',\n",
      " '2025-05-19 00:00:00', '2025-05-20 00:00:00', '2025-05-21 00:00:00',\n",
      " '2025-05-22 00:00:00', '2025-05-23 00:00:00', '2025-05-24 00:00:00',\n",
      " '2025-05-25 00:00:00', '2025-05-26 00:00:00', '2025-05-27 00:00:00',\n",
      " '2025-05-28 00:00:00', '2025-05-29 00:00:00', '2025-05-30 00:00:00',\n",
      " '2025-05-31 00:00:00']\n",
      "Length: 31, dtype: datetime64[ns]\n"
     ]
    }
   ],
   "source": [
    "print(df['Bill Date'].sort_values().unique())\n"
   ]
  },
  {
   "cell_type": "code",
   "execution_count": 31,
   "id": "5696c6f5-6dba-472d-a781-b53ab2232b92",
   "metadata": {},
   "outputs": [
    {
     "name": "stdout",
     "output_type": "stream",
     "text": [
      "Item Name\n",
      "blueberry tray                  6075006.00\n",
      "dragon fruit 20 pcs box         3212774.00\n",
      "150pb chile gala extra fancy    1727250.00\n",
      "125pb chile gala extra fancy    1581050.00\n",
      "dragon fruit 22 pc box          1320201.00\n",
      "90pb royal gala                 1313200.00\n",
      "125pb chile gala premium         988550.00\n",
      "110pb royal gala                 938000.00\n",
      "163pb chile gala extra fancy     781550.00\n",
      "150pb royal gala                 750400.00\n",
      "100pb royal gala                 562800.00\n",
      "suzette                          488735.12\n",
      "175pb chile gala extra fancy     472850.00\n",
      "raspberry                        382855.00\n",
      "198pb chile gala extra fancy     313600.00\n",
      "150pb chile gala premium         311300.00\n",
      "175pb chile gala premium         308700.00\n",
      "20pb avocado                     212900.00\n",
      "135pb royal gala                 187600.00\n",
      "120pb royal gala                 187600.00\n",
      "163pb chile gala premium         154350.00\n",
      "14pb avocado                      71500.00\n",
      "indian blueberry tray             60000.00\n",
      "80pb pear beauty                  46550.00\n",
      "80pb pear pachkam                 38400.00\n",
      "60mm china mandarin               38100.00\n",
      "80pb orange valencia(malta)       20150.00\n",
      "65mm china mandarin               19750.00\n",
      "88pb orange valencia(malta)       11200.00\n",
      "36pb iran kiwi                     6800.00\n",
      "9kg red globe                      4200.00\n",
      "Name: Item Total, dtype: float64\n",
      "Line Item Location Name\n",
      "mumbai vashi dc (warehouse)    22036091.12\n",
      "delhi dc (warehouse)             427855.00\n",
      "hyderabad dc (warehouse)         119775.00\n",
      "head office                        4200.00\n",
      "Name: Item Total, dtype: float64\n"
     ]
    }
   ],
   "source": [
    "df['Item Name'] = df['Item Name'].str.strip().str.lower()\n",
    "df['Line Item Location Name'] = df['Line Item Location Name'].str.strip().str.lower()\n",
    "df_grouped = df.groupby('Item Name')['Item Total'].sum().sort_values(ascending=False)\n",
    "print(df_grouped)\n",
    "\n",
    "df_ware = df.groupby('Line Item Location Name')['Item Total'].sum().sort_values(ascending=False)\n",
    "print(df_ware)\n"
   ]
  },
  {
   "cell_type": "code",
   "execution_count": 32,
   "id": "e9081200-8764-4e1e-9518-e0beff140076",
   "metadata": {},
   "outputs": [
    {
     "name": "stdout",
     "output_type": "stream",
     "text": [
      "File saved successfully: /Users/devnikhil/Downloads/may_full_pur.xlsx\n"
     ]
    }
   ],
   "source": [
    "import pandas as pd\n",
    "\n",
    "# Define file path\n",
    "file_path = \"/Users/devnikhil/Downloads/may_full_pur.xlsx\"\n",
    "\n",
    "# Save both dataframes in different sheets of the same file\n",
    "with pd.ExcelWriter(file_path, engine=\"xlsxwriter\") as writer:\n",
    "    df_grouped.to_frame().to_excel(writer, sheet_name=\"Itemwise_Total\")\n",
    "    df_ware.to_frame().to_excel(writer, sheet_name=\"Warehousewise_Total\")\n",
    "\n",
    "print(f\"File saved successfully: {file_path}\")\n"
   ]
  },
  {
   "cell_type": "code",
   "execution_count": null,
   "id": "490c99ac-a433-485b-9d36-4c445db11edf",
   "metadata": {},
   "outputs": [],
   "source": []
  },
  {
   "cell_type": "code",
   "execution_count": null,
   "id": "e06667d8-386a-4cfd-ace4-43107fe9590e",
   "metadata": {},
   "outputs": [],
   "source": []
  }
 ],
 "metadata": {
  "kernelspec": {
   "display_name": "Python 3 (ipykernel)",
   "language": "python",
   "name": "python3"
  },
  "language_info": {
   "codemirror_mode": {
    "name": "ipython",
    "version": 3
   },
   "file_extension": ".py",
   "mimetype": "text/x-python",
   "name": "python",
   "nbconvert_exporter": "python",
   "pygments_lexer": "ipython3",
   "version": "3.11.8"
  }
 },
 "nbformat": 4,
 "nbformat_minor": 5
}
